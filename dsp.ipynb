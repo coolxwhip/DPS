{
  "nbformat": 4,
  "nbformat_minor": 0,
  "metadata": {
    "colab": {
      "provenance": [],
      "toc_visible": true
    },
    "kernelspec": {
      "name": "python3",
      "display_name": "Python 3"
    },
    "language_info": {
      "name": "python"
    }
  },
  "cells": [
    {
      "cell_type": "code",
      "execution_count": null,
      "metadata": {
        "colab": {
          "base_uri": "https://localhost:8080/"
        },
        "id": "iyoU7jJghaLJ",
        "outputId": "da5fa7d2-1207-4eb8-abef-574a1d0ac640"
      },
      "outputs": [
        {
          "output_type": "stream",
          "name": "stdout",
          "text": [
            "Requirement already satisfied: cryptography in /usr/local/lib/python3.10/dist-packages (42.0.8)\n",
            "Requirement already satisfied: cffi>=1.12 in /usr/local/lib/python3.10/dist-packages (from cryptography) (1.17.0)\n",
            "Requirement already satisfied: pycparser in /usr/local/lib/python3.10/dist-packages (from cffi>=1.12->cryptography) (2.22)\n"
          ]
        }
      ],
      "source": [
        "!pip install cryptography"
      ]
    },
    {
      "cell_type": "markdown",
      "source": [
        "# PS4"
      ],
      "metadata": {
        "id": "xbzP2ReFq4D0"
      }
    },
    {
      "cell_type": "markdown",
      "source": [
        "## AES CBC"
      ],
      "metadata": {
        "id": "W_L01mmyq7cj"
      }
    },
    {
      "cell_type": "code",
      "source": [
        "from cryptography.hazmat.primitives.ciphers import Cipher, algorithms, modes\n",
        "from cryptography.hazmat.primitives import padding\n",
        "import os\n",
        "\n",
        "def encrypt_text(plain_text: str, key: bytes) -> (bytes, bytes):\n",
        "    iv = os.urandom(16)\n",
        "    cipher = Cipher(algorithms.AES(key), modes.CBC(iv))\n",
        "    encryptor = cipher.encryptor()\n",
        "\n",
        "    padder = padding.PKCS7(algorithms.AES.block_size).padder()\n",
        "    padded_data = padder.update(plain_text.encode()) + padder.finalize()\n",
        "    cipher_text = encryptor.update(padded_data) + encryptor.finalize()\n",
        "\n",
        "    return cipher_text, iv\n",
        "\n",
        "def decrypt_text(cipher_text: bytes, iv: bytes, key: bytes) -> str:\n",
        "    cipher = Cipher(algorithms.AES(key), modes.CBC(iv))\n",
        "    decryptor = cipher.decryptor()\n",
        "\n",
        "    padded_plain_text = decryptor.update(cipher_text) + decryptor.finalize()\n",
        "\n",
        "    unpadder = padding.PKCS7(algorithms.AES.block_size).unpadder()\n",
        "    plain_text = unpadder.update(padded_plain_text) + unpadder.finalize()\n",
        "\n",
        "    return plain_text.decode()\n",
        "\n",
        "if __name__ == \"__main__\":\n",
        "    key = os.urandom(32)\n",
        "    plain_text = \"This is a secret message.\"\n",
        "    cipher_text, iv = encrypt_text(plain_text, key)\n",
        "    print(f\"Encrypted: {cipher_text}\")\n",
        "    decrypted_text = decrypt_text(cipher_text, iv, key)\n",
        "    print(f\"Decrypted: {decrypted_text}\")\n"
      ],
      "metadata": {
        "colab": {
          "base_uri": "https://localhost:8080/"
        },
        "id": "ya2s0ZCOk-yb",
        "outputId": "57311ef4-376b-4f59-91a7-7f67140a9d71"
      },
      "execution_count": null,
      "outputs": [
        {
          "output_type": "stream",
          "name": "stdout",
          "text": [
            "Encrypted: b'\\x10S\\x08)uj\\xd7\\xaf\\x9c\\xc9\\xad\\xabw\\xc0\\x1c\\x15[\\x1d0j\\xde\\x7fT\\xaf\\xa1A@\\x0f\\x8a\\xa1o\\x17'\n",
            "Decrypted: This is a secret message.\n"
          ]
        }
      ]
    },
    {
      "cell_type": "code",
      "source": [
        "algorithms.AES.block_size"
      ],
      "metadata": {
        "colab": {
          "base_uri": "https://localhost:8080/"
        },
        "id": "ZvakCb3GdT5l",
        "outputId": "a6bb1dc0-930b-4068-e63e-5c53382c9a27"
      },
      "execution_count": null,
      "outputs": [
        {
          "output_type": "execute_result",
          "data": {
            "text/plain": [
              "128"
            ]
          },
          "metadata": {},
          "execution_count": 11
        }
      ]
    },
    {
      "cell_type": "code",
      "source": [],
      "metadata": {
        "id": "cw_DddAxrq5C"
      },
      "execution_count": null,
      "outputs": []
    },
    {
      "cell_type": "code",
      "source": [
        "256/8"
      ],
      "metadata": {
        "colab": {
          "base_uri": "https://localhost:8080/"
        },
        "id": "IX1adjAtbidL",
        "outputId": "dab249d4-7221-455e-bc00-4cd77c8f0a1a"
      },
      "execution_count": null,
      "outputs": [
        {
          "output_type": "execute_result",
          "data": {
            "text/plain": [
              "32.0"
            ]
          },
          "metadata": {},
          "execution_count": 7
        }
      ]
    },
    {
      "cell_type": "markdown",
      "source": [
        "## AES ECB"
      ],
      "metadata": {
        "id": "ptVdkla-rC8D"
      }
    },
    {
      "cell_type": "code",
      "source": [
        "from cryptography.hazmat.primitives.ciphers import Cipher, algorithms, modes\n",
        "from cryptography.hazmat.primitives import padding\n",
        "import os\n",
        "\n",
        "def encrypt_text_ecb(plain_text: str, key: bytes) -> bytes:\n",
        "    cipher = Cipher(algorithms.AES(key), modes.ECB())\n",
        "    encryptor = cipher.encryptor()\n",
        "\n",
        "    padder = padding.PKCS7(algorithms.AES.block_size).padder()\n",
        "    padded_data = padder.update(plain_text.encode()) + padder.finalize()\n",
        "    cipher_text = encryptor.update(padded_data) + encryptor.finalize()\n",
        "\n",
        "    return cipher_text\n",
        "\n",
        "def decrypt_text_ecb(cipher_text: bytes, key: bytes) -> str:\n",
        "    cipher = Cipher(algorithms.AES(key), modes.ECB())\n",
        "    decryptor = cipher.decryptor()\n",
        "\n",
        "    padded_plain_text = decryptor.update(cipher_text) + decryptor.finalize()\n",
        "\n",
        "    unpadder = padding.PKCS7(algorithms.AES.block_size).unpadder()\n",
        "    plain_text = unpadder.update(padded_plain_text) + unpadder.finalize()\n",
        "\n",
        "    return plain_text.decode()\n",
        "\n",
        "if __name__ == \"__main__\":\n",
        "    key = os.urandom(32)  # 256-bit key for AES\n",
        "    plain_text = \"This is a secret message.\"\n",
        "    cipher_text = encrypt_text_ecb(plain_text, key)\n",
        "    print(f\"Encrypted (ECB): {cipher_text}\")\n",
        "    decrypted_text = decrypt_text_ecb(cipher_text, key)\n",
        "    print(f\"Decrypted (ECB): {decrypted_text}\")\n"
      ],
      "metadata": {
        "colab": {
          "base_uri": "https://localhost:8080/"
        },
        "id": "hi5gstwZm81U",
        "outputId": "550f5458-e99a-475d-8486-08bb52182fbf"
      },
      "execution_count": null,
      "outputs": [
        {
          "output_type": "stream",
          "name": "stdout",
          "text": [
            "Encrypted (ECB): b'\\xc7\\xf7\\\\\\x83tY\\x94\\xf5~z\\xf6W\\xcaW~\\xa5\\xe7\\xce\\xe6\\xd0\\x07U\\xad\\xd2\\x92\\xb6\\xd0\\x83s\\xf6\\xb8t'\n",
            "Decrypted (ECB): This is a secret message.\n"
          ]
        }
      ]
    },
    {
      "cell_type": "markdown",
      "source": [
        "## AES CFB"
      ],
      "metadata": {
        "id": "_hc0dpZqrZDp"
      }
    },
    {
      "cell_type": "code",
      "source": [
        "from cryptography.hazmat.primitives.ciphers import Cipher, algorithms, modes\n",
        "import os\n",
        "\n",
        "def encrypt_text_cfb(plain_text: str, key: bytes) -> (bytes, bytes):\n",
        "    iv = os.urandom(16)\n",
        "    cipher = Cipher(algorithms.AES(key), modes.CFB(iv))\n",
        "    encryptor = cipher.encryptor()\n",
        "\n",
        "    cipher_text = encryptor.update(plain_text.encode()) + encryptor.finalize()\n",
        "\n",
        "    return cipher_text, iv\n",
        "\n",
        "def decrypt_text_cfb(cipher_text: bytes, iv: bytes, key: bytes) -> str:\n",
        "    cipher = Cipher(algorithms.AES(key), modes.CFB(iv))\n",
        "    decryptor = cipher.decryptor()\n",
        "\n",
        "    plain_text = decryptor.update(cipher_text) + decryptor.finalize()\n",
        "\n",
        "    return plain_text.decode()\n",
        "\n",
        "if __name__ == \"__main__\":\n",
        "    key = os.urandom(32)  # 256-bit key for AES\n",
        "    plain_text = \"XXAABBXXAABB\"\n",
        "    cipher_text, iv = encrypt_text_cfb(plain_text, key)\n",
        "    print(f\"Encrypted (CFB): {cipher_text}\")\n",
        "    decrypted_text = decrypt_text_cfb(cipher_text, iv, key)\n",
        "    print(f\"Decrypted (CFB): {decrypted_text}\")\n"
      ],
      "metadata": {
        "colab": {
          "base_uri": "https://localhost:8080/"
        },
        "id": "TYNgOnkRrJ83",
        "outputId": "362d4912-3545-48b6-8c0d-93fbc2f73671"
      },
      "execution_count": null,
      "outputs": [
        {
          "output_type": "stream",
          "name": "stdout",
          "text": [
            "Encrypted (CFB): b'P\\x0c1\\x8c\\x98_U\\xb6I\\xb5\\xa5/'\n",
            "Decrypted (CFB): XXAABBXXAABB\n"
          ]
        }
      ]
    },
    {
      "cell_type": "code",
      "source": [
        "13 ** 27 % 55"
      ],
      "metadata": {
        "colab": {
          "base_uri": "https://localhost:8080/"
        },
        "id": "4eSEvU3treUt",
        "outputId": "d342ca2b-8a49-4cec-b9f4-df055607a9c0"
      },
      "execution_count": null,
      "outputs": [
        {
          "output_type": "execute_result",
          "data": {
            "text/plain": [
              "7"
            ]
          },
          "metadata": {},
          "execution_count": 25
        }
      ]
    },
    {
      "cell_type": "code",
      "source": [],
      "metadata": {
        "id": "QdFjipfw8MFq"
      },
      "execution_count": null,
      "outputs": []
    },
    {
      "cell_type": "markdown",
      "source": [
        "# PS5"
      ],
      "metadata": {
        "id": "Pk9gD5f4CdgI"
      }
    },
    {
      "cell_type": "markdown",
      "source": [
        "## P1"
      ],
      "metadata": {
        "id": "9RazN5ADCgoE"
      }
    },
    {
      "cell_type": "code",
      "source": [
        "n = 35\n",
        "e = 3\n",
        "\n",
        "plain_text = 22\n",
        "encrypt_text = 22 ** e % n\n",
        "print(encrypt_text)"
      ],
      "metadata": {
        "colab": {
          "base_uri": "https://localhost:8080/"
        },
        "id": "rMOUz4IhCgEx",
        "outputId": "f2a0828f-7fda-45d3-e92c-7ab404ef8b93"
      },
      "execution_count": null,
      "outputs": [
        {
          "output_type": "stream",
          "name": "stdout",
          "text": [
            "8\n"
          ]
        }
      ]
    },
    {
      "cell_type": "code",
      "source": [
        "def cycle_attack(n, e, c):\n",
        "    prev = c\n",
        "    curr = c\n",
        "\n",
        "    counter = 100\n",
        "\n",
        "    while counter > 0:\n",
        "        print(prev, curr)\n",
        "        prev = curr\n",
        "        curr = (curr ** e) % n\n",
        "        if curr == c:\n",
        "            return prev\n",
        "\n",
        "        counter -= 1\n",
        "\n",
        "    return False\n",
        "\n"
      ],
      "metadata": {
        "id": "wNj3xxjeCuOj"
      },
      "execution_count": null,
      "outputs": []
    },
    {
      "cell_type": "code",
      "source": [
        "ans = cycle_attack(n, e, 22 ** e % n)"
      ],
      "metadata": {
        "colab": {
          "base_uri": "https://localhost:8080/"
        },
        "id": "0mlTzpm9DFfk",
        "outputId": "c60c91ce-049a-4432-d780-6a917ad65d80"
      },
      "execution_count": null,
      "outputs": [
        {
          "output_type": "stream",
          "name": "stdout",
          "text": [
            "8 8\n",
            "8 22\n"
          ]
        }
      ]
    },
    {
      "cell_type": "code",
      "source": [
        "ans"
      ],
      "metadata": {
        "colab": {
          "base_uri": "https://localhost:8080/"
        },
        "id": "qYmDn6ZODKbC",
        "outputId": "f61a3aff-e193-4986-d7e6-7c6571a11e0c"
      },
      "execution_count": null,
      "outputs": [
        {
          "output_type": "execute_result",
          "data": {
            "text/plain": [
              "22"
            ]
          },
          "metadata": {},
          "execution_count": 52
        }
      ]
    },
    {
      "cell_type": "code",
      "source": [],
      "metadata": {
        "id": "M2q9AMFJDyBc"
      },
      "execution_count": null,
      "outputs": []
    }
  ]
}